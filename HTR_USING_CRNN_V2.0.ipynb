{
  "nbformat": 4,
  "nbformat_minor": 0,
  "metadata": {
    "colab": {
      "provenance": [],
      "gpuType": "T4"
    },
    "kernelspec": {
      "name": "python3",
      "display_name": "Python 3"
    },
    "accelerator": "GPU"
  },
  "cells": [
    {
      "cell_type": "code",
      "metadata": {
        "id": "bXSOosGV43jk",
        "colab": {
          "base_uri": "https://localhost:8080/"
        },
        "outputId": "526a808e-65b0-4d14-f521-442a5d3e321b"
      },
      "source": [
        "!pip install kaggle"
      ],
      "execution_count": 1,
      "outputs": [
        {
          "output_type": "stream",
          "name": "stdout",
          "text": [
            "Requirement already satisfied: kaggle in /usr/local/lib/python3.10/dist-packages (1.5.16)\n",
            "Requirement already satisfied: six>=1.10 in /usr/local/lib/python3.10/dist-packages (from kaggle) (1.16.0)\n",
            "Requirement already satisfied: certifi in /usr/local/lib/python3.10/dist-packages (from kaggle) (2024.2.2)\n",
            "Requirement already satisfied: python-dateutil in /usr/local/lib/python3.10/dist-packages (from kaggle) (2.8.2)\n",
            "Requirement already satisfied: requests in /usr/local/lib/python3.10/dist-packages (from kaggle) (2.31.0)\n",
            "Requirement already satisfied: tqdm in /usr/local/lib/python3.10/dist-packages (from kaggle) (4.66.2)\n",
            "Requirement already satisfied: python-slugify in /usr/local/lib/python3.10/dist-packages (from kaggle) (8.0.4)\n",
            "Requirement already satisfied: urllib3 in /usr/local/lib/python3.10/dist-packages (from kaggle) (2.0.7)\n",
            "Requirement already satisfied: bleach in /usr/local/lib/python3.10/dist-packages (from kaggle) (6.1.0)\n",
            "Requirement already satisfied: webencodings in /usr/local/lib/python3.10/dist-packages (from bleach->kaggle) (0.5.1)\n",
            "Requirement already satisfied: text-unidecode>=1.3 in /usr/local/lib/python3.10/dist-packages (from python-slugify->kaggle) (1.3)\n",
            "Requirement already satisfied: charset-normalizer<4,>=2 in /usr/local/lib/python3.10/dist-packages (from requests->kaggle) (3.3.2)\n",
            "Requirement already satisfied: idna<4,>=2.5 in /usr/local/lib/python3.10/dist-packages (from requests->kaggle) (3.6)\n"
          ]
        }
      ]
    },
    {
      "cell_type": "code",
      "metadata": {
        "id": "ewk6zgrv5s7_",
        "colab": {
          "base_uri": "https://localhost:8080/",
          "height": 91
        },
        "outputId": "2557bfae-b1d6-46e0-a57d-22773e099880"
      },
      "source": [
        "from google.colab import files\n",
        "files.upload() #upload kaggle.json"
      ],
      "execution_count": 2,
      "outputs": [
        {
          "output_type": "display_data",
          "data": {
            "text/plain": [
              "<IPython.core.display.HTML object>"
            ],
            "text/html": [
              "\n",
              "     <input type=\"file\" id=\"files-4747cea9-c3e0-4b80-9e0e-5d9e717cc635\" name=\"files[]\" multiple disabled\n",
              "        style=\"border:none\" />\n",
              "     <output id=\"result-4747cea9-c3e0-4b80-9e0e-5d9e717cc635\">\n",
              "      Upload widget is only available when the cell has been executed in the\n",
              "      current browser session. Please rerun this cell to enable.\n",
              "      </output>\n",
              "      <script>// Copyright 2017 Google LLC\n",
              "//\n",
              "// Licensed under the Apache License, Version 2.0 (the \"License\");\n",
              "// you may not use this file except in compliance with the License.\n",
              "// You may obtain a copy of the License at\n",
              "//\n",
              "//      http://www.apache.org/licenses/LICENSE-2.0\n",
              "//\n",
              "// Unless required by applicable law or agreed to in writing, software\n",
              "// distributed under the License is distributed on an \"AS IS\" BASIS,\n",
              "// WITHOUT WARRANTIES OR CONDITIONS OF ANY KIND, either express or implied.\n",
              "// See the License for the specific language governing permissions and\n",
              "// limitations under the License.\n",
              "\n",
              "/**\n",
              " * @fileoverview Helpers for google.colab Python module.\n",
              " */\n",
              "(function(scope) {\n",
              "function span(text, styleAttributes = {}) {\n",
              "  const element = document.createElement('span');\n",
              "  element.textContent = text;\n",
              "  for (const key of Object.keys(styleAttributes)) {\n",
              "    element.style[key] = styleAttributes[key];\n",
              "  }\n",
              "  return element;\n",
              "}\n",
              "\n",
              "// Max number of bytes which will be uploaded at a time.\n",
              "const MAX_PAYLOAD_SIZE = 100 * 1024;\n",
              "\n",
              "function _uploadFiles(inputId, outputId) {\n",
              "  const steps = uploadFilesStep(inputId, outputId);\n",
              "  const outputElement = document.getElementById(outputId);\n",
              "  // Cache steps on the outputElement to make it available for the next call\n",
              "  // to uploadFilesContinue from Python.\n",
              "  outputElement.steps = steps;\n",
              "\n",
              "  return _uploadFilesContinue(outputId);\n",
              "}\n",
              "\n",
              "// This is roughly an async generator (not supported in the browser yet),\n",
              "// where there are multiple asynchronous steps and the Python side is going\n",
              "// to poll for completion of each step.\n",
              "// This uses a Promise to block the python side on completion of each step,\n",
              "// then passes the result of the previous step as the input to the next step.\n",
              "function _uploadFilesContinue(outputId) {\n",
              "  const outputElement = document.getElementById(outputId);\n",
              "  const steps = outputElement.steps;\n",
              "\n",
              "  const next = steps.next(outputElement.lastPromiseValue);\n",
              "  return Promise.resolve(next.value.promise).then((value) => {\n",
              "    // Cache the last promise value to make it available to the next\n",
              "    // step of the generator.\n",
              "    outputElement.lastPromiseValue = value;\n",
              "    return next.value.response;\n",
              "  });\n",
              "}\n",
              "\n",
              "/**\n",
              " * Generator function which is called between each async step of the upload\n",
              " * process.\n",
              " * @param {string} inputId Element ID of the input file picker element.\n",
              " * @param {string} outputId Element ID of the output display.\n",
              " * @return {!Iterable<!Object>} Iterable of next steps.\n",
              " */\n",
              "function* uploadFilesStep(inputId, outputId) {\n",
              "  const inputElement = document.getElementById(inputId);\n",
              "  inputElement.disabled = false;\n",
              "\n",
              "  const outputElement = document.getElementById(outputId);\n",
              "  outputElement.innerHTML = '';\n",
              "\n",
              "  const pickedPromise = new Promise((resolve) => {\n",
              "    inputElement.addEventListener('change', (e) => {\n",
              "      resolve(e.target.files);\n",
              "    });\n",
              "  });\n",
              "\n",
              "  const cancel = document.createElement('button');\n",
              "  inputElement.parentElement.appendChild(cancel);\n",
              "  cancel.textContent = 'Cancel upload';\n",
              "  const cancelPromise = new Promise((resolve) => {\n",
              "    cancel.onclick = () => {\n",
              "      resolve(null);\n",
              "    };\n",
              "  });\n",
              "\n",
              "  // Wait for the user to pick the files.\n",
              "  const files = yield {\n",
              "    promise: Promise.race([pickedPromise, cancelPromise]),\n",
              "    response: {\n",
              "      action: 'starting',\n",
              "    }\n",
              "  };\n",
              "\n",
              "  cancel.remove();\n",
              "\n",
              "  // Disable the input element since further picks are not allowed.\n",
              "  inputElement.disabled = true;\n",
              "\n",
              "  if (!files) {\n",
              "    return {\n",
              "      response: {\n",
              "        action: 'complete',\n",
              "      }\n",
              "    };\n",
              "  }\n",
              "\n",
              "  for (const file of files) {\n",
              "    const li = document.createElement('li');\n",
              "    li.append(span(file.name, {fontWeight: 'bold'}));\n",
              "    li.append(span(\n",
              "        `(${file.type || 'n/a'}) - ${file.size} bytes, ` +\n",
              "        `last modified: ${\n",
              "            file.lastModifiedDate ? file.lastModifiedDate.toLocaleDateString() :\n",
              "                                    'n/a'} - `));\n",
              "    const percent = span('0% done');\n",
              "    li.appendChild(percent);\n",
              "\n",
              "    outputElement.appendChild(li);\n",
              "\n",
              "    const fileDataPromise = new Promise((resolve) => {\n",
              "      const reader = new FileReader();\n",
              "      reader.onload = (e) => {\n",
              "        resolve(e.target.result);\n",
              "      };\n",
              "      reader.readAsArrayBuffer(file);\n",
              "    });\n",
              "    // Wait for the data to be ready.\n",
              "    let fileData = yield {\n",
              "      promise: fileDataPromise,\n",
              "      response: {\n",
              "        action: 'continue',\n",
              "      }\n",
              "    };\n",
              "\n",
              "    // Use a chunked sending to avoid message size limits. See b/62115660.\n",
              "    let position = 0;\n",
              "    do {\n",
              "      const length = Math.min(fileData.byteLength - position, MAX_PAYLOAD_SIZE);\n",
              "      const chunk = new Uint8Array(fileData, position, length);\n",
              "      position += length;\n",
              "\n",
              "      const base64 = btoa(String.fromCharCode.apply(null, chunk));\n",
              "      yield {\n",
              "        response: {\n",
              "          action: 'append',\n",
              "          file: file.name,\n",
              "          data: base64,\n",
              "        },\n",
              "      };\n",
              "\n",
              "      let percentDone = fileData.byteLength === 0 ?\n",
              "          100 :\n",
              "          Math.round((position / fileData.byteLength) * 100);\n",
              "      percent.textContent = `${percentDone}% done`;\n",
              "\n",
              "    } while (position < fileData.byteLength);\n",
              "  }\n",
              "\n",
              "  // All done.\n",
              "  yield {\n",
              "    response: {\n",
              "      action: 'complete',\n",
              "    }\n",
              "  };\n",
              "}\n",
              "\n",
              "scope.google = scope.google || {};\n",
              "scope.google.colab = scope.google.colab || {};\n",
              "scope.google.colab._files = {\n",
              "  _uploadFiles,\n",
              "  _uploadFilesContinue,\n",
              "};\n",
              "})(self);\n",
              "</script> "
            ]
          },
          "metadata": {}
        },
        {
          "output_type": "stream",
          "name": "stdout",
          "text": [
            "Saving kaggle.json to kaggle.json\n"
          ]
        },
        {
          "output_type": "execute_result",
          "data": {
            "text/plain": [
              "{'kaggle.json': b'{\"username\":\"kavinduhandapangoda\",\"key\":\"16f6e6baf751f0296cb3d5c405a8ab22\"}'}"
            ]
          },
          "metadata": {},
          "execution_count": 2
        }
      ]
    },
    {
      "cell_type": "code",
      "metadata": {
        "id": "X_x6a4YD5u1J"
      },
      "source": [
        "!mkdir -p ~/.kaggle\n",
        "!cp kaggle.json ~/.kaggle/\n",
        "\n",
        "!chmod 600 /root/.kaggle/kaggle.json"
      ],
      "execution_count": 3,
      "outputs": []
    },
    {
      "cell_type": "code",
      "metadata": {
        "id": "EI7o7RL850Xd",
        "colab": {
          "base_uri": "https://localhost:8080/"
        },
        "outputId": "f194212d-4fd2-4013-d6cc-8568f3bae52f"
      },
      "source": [
        "!kaggle datasets download -d sukhandeepshergill/iamdatasethtrwords"
      ],
      "execution_count": 4,
      "outputs": [
        {
          "output_type": "stream",
          "name": "stdout",
          "text": [
            "Downloading iamdatasethtrwords.zip to /content\n",
            "100% 780M/782M [00:38<00:00, 25.3MB/s]\n",
            "100% 782M/782M [00:38<00:00, 21.2MB/s]\n"
          ]
        }
      ]
    },
    {
      "cell_type": "code",
      "metadata": {
        "id": "xGhR8Xtm53Ci",
        "colab": {
          "base_uri": "https://localhost:8080/"
        },
        "outputId": "3a2cbef0-5776-4637-cb5a-6d51afbb2bc7"
      },
      "source": [
        "from zipfile import ZipFile\n",
        "file_name = \"iamdatasethtrwords.zip\"\n",
        "with ZipFile(file_name,'r') as zip:\n",
        "  zip.extractall()\n",
        "  print('Done')"
      ],
      "execution_count": 5,
      "outputs": [
        {
          "output_type": "stream",
          "name": "stdout",
          "text": [
            "Done\n"
          ]
        }
      ]
    },
    {
      "cell_type": "code",
      "metadata": {
        "id": "j5tF5Q7QBv5o",
        "colab": {
          "base_uri": "https://localhost:8080/"
        },
        "outputId": "1a9db4e5-996d-46a2-9e5e-35674db3af2b"
      },
      "source": [
        "!pip install keras_tqdm"
      ],
      "execution_count": 6,
      "outputs": [
        {
          "output_type": "stream",
          "name": "stdout",
          "text": [
            "Collecting keras_tqdm\n",
            "  Downloading keras_tqdm-2.0.1-py2.py3-none-any.whl (7.1 kB)\n",
            "Requirement already satisfied: Keras in /usr/local/lib/python3.10/dist-packages (from keras_tqdm) (2.15.0)\n",
            "Requirement already satisfied: tqdm in /usr/local/lib/python3.10/dist-packages (from keras_tqdm) (4.66.2)\n",
            "Installing collected packages: keras_tqdm\n",
            "Successfully installed keras_tqdm-2.0.1\n"
          ]
        }
      ]
    },
    {
      "cell_type": "code",
      "metadata": {
        "id": "WyBpW92f6Ara"
      },
      "source": [
        "import numpy as np\n",
        "import cv2\n",
        "import os\n",
        "import pandas as pd\n",
        "import string\n",
        "import matplotlib.pyplot as plt\n",
        "\n",
        "import os\n",
        "from google.colab import drive #To use googel drive to get files.\n",
        "\n",
        "from keras.preprocessing.sequence import pad_sequences\n",
        "\n",
        "from keras.layers import Dense, LSTM, Reshape, BatchNormalization, Input, Conv2D, MaxPool2D, Lambda, Bidirectional, Flatten\n",
        "from keras.models import Model\n",
        "from keras.activations import relu, sigmoid, softmax\n",
        "import keras.backend as K\n",
        "from keras.utils import to_categorical\n",
        "from keras.callbacks import ModelCheckpoint\n",
        "from keras_tqdm import TQDMNotebookCallback\n",
        "\n",
        "from sklearn.model_selection import train_test_split\n",
        "from sklearn.preprocessing import MinMaxScaler"
      ],
      "execution_count": 7,
      "outputs": []
    },
    {
      "cell_type": "code",
      "metadata": {
        "id": "0QGK7qIA6Hdm"
      },
      "source": [
        "import tensorflow as tf\n",
        "\n",
        "#ignore warnings in the output\n",
        "tf.compat.v1.logging.set_verbosity(tf.compat.v1.logging.ERROR)"
      ],
      "execution_count": 8,
      "outputs": []
    },
    {
      "cell_type": "code",
      "metadata": {
        "id": "f6IxujWd6JSt",
        "colab": {
          "base_uri": "https://localhost:8080/"
        },
        "outputId": "b3c76de5-8890-4b2c-a132-5c5386f7641f"
      },
      "source": [
        "from tensorflow.python.client import device_lib\n",
        "\n",
        "# Check all available devices if GPU is available\n",
        "print(device_lib.list_local_devices())\n",
        "sess = tf.compat.v1.Session(config=tf.compat.v1.ConfigProto(log_device_placement=True))"
      ],
      "execution_count": 9,
      "outputs": [
        {
          "output_type": "stream",
          "name": "stdout",
          "text": [
            "[name: \"/device:CPU:0\"\n",
            "device_type: \"CPU\"\n",
            "memory_limit: 268435456\n",
            "locality {\n",
            "}\n",
            "incarnation: 10403064443007972343\n",
            "xla_global_id: -1\n",
            ", name: \"/device:GPU:0\"\n",
            "device_type: \"GPU\"\n",
            "memory_limit: 14626652160\n",
            "locality {\n",
            "  bus_id: 1\n",
            "  links {\n",
            "  }\n",
            "}\n",
            "incarnation: 15898275988159849275\n",
            "physical_device_desc: \"device: 0, name: Tesla T4, pci bus id: 0000:00:04.0, compute capability: 7.5\"\n",
            "xla_global_id: 416903419\n",
            "]\n",
            "Device mapping:\n",
            "/job:localhost/replica:0/task:0/device:GPU:0 -> device: 0, name: Tesla T4, pci bus id: 0000:00:04.0, compute capability: 7.5\n",
            "\n"
          ]
        }
      ]
    },
    {
      "cell_type": "code",
      "metadata": {
        "id": "BLqCa_3d6KBC",
        "colab": {
          "base_uri": "https://localhost:8080/"
        },
        "outputId": "ebc180db-57d7-4963-f88f-a7f80929bd8a"
      },
      "source": [
        "tf.config.experimental.list_physical_devices('GPU')\n"
      ],
      "execution_count": 10,
      "outputs": [
        {
          "output_type": "execute_result",
          "data": {
            "text/plain": [
              "[PhysicalDevice(name='/physical_device:GPU:0', device_type='GPU')]"
            ]
          },
          "metadata": {},
          "execution_count": 10
        }
      ]
    },
    {
      "cell_type": "code",
      "metadata": {
        "id": "L1opp33eB8km",
        "colab": {
          "base_uri": "https://localhost:8080/",
          "height": 36
        },
        "outputId": "45d68fd3-1882-4a11-cf71-59b54eacbbf1"
      },
      "source": [
        "tf.test.gpu_device_name()"
      ],
      "execution_count": 11,
      "outputs": [
        {
          "output_type": "execute_result",
          "data": {
            "text/plain": [
              "'/device:GPU:0'"
            ],
            "application/vnd.google.colaboratory.intrinsic+json": {
              "type": "string"
            }
          },
          "metadata": {},
          "execution_count": 11
        }
      ]
    },
    {
      "cell_type": "code",
      "metadata": {
        "id": "Nte5YLv_CAlK",
        "colab": {
          "base_uri": "https://localhost:8080/",
          "height": 36
        },
        "outputId": "e92ae4ee-1827-4847-8892-e80415049b17"
      },
      "source": [
        "#drive.mount('/content/gdrive')\n",
        "with open('./words.txt') as f:\n",
        "    contents = f.readlines()\n",
        "\n",
        "lines = [line.strip() for line in contents]\n",
        "lines[0]"
      ],
      "execution_count": 12,
      "outputs": [
        {
          "output_type": "execute_result",
          "data": {
            "text/plain": [
              "'a01-000u-00-00 ok 154 408 768 27 51 AT A'"
            ],
            "application/vnd.google.colaboratory.intrinsic+json": {
              "type": "string"
            }
          },
          "metadata": {},
          "execution_count": 12
        }
      ]
    },
    {
      "cell_type": "code",
      "metadata": {
        "id": "zWV38XViCCan",
        "colab": {
          "base_uri": "https://localhost:8080/"
        },
        "outputId": "94901f85-2f68-4e9d-9d21-ac9d3641ede0"
      },
      "source": [
        "max_label_len = 0\n",
        "\n",
        "char_list = \"!\\\"#&'()*+,-./0123456789:;?ABCDEFGHIJKLMNOPQRSTUVWXYZabcdefghijklmnopqrstuvwxyz\"\n",
        "\n",
        "\n",
        "print(char_list, len(char_list))\n",
        "\n",
        "def encode_to_labels(txt):\n",
        "    # encoding each output word into digits\n",
        "    dig_lst = []\n",
        "    for index, chara in enumerate(txt):\n",
        "        dig_lst.append(char_list.index(chara))\n",
        "\n",
        "    return dig_lst"
      ],
      "execution_count": 13,
      "outputs": [
        {
          "output_type": "stream",
          "name": "stdout",
          "text": [
            "!\"#&'()*+,-./0123456789:;?ABCDEFGHIJKLMNOPQRSTUVWXYZabcdefghijklmnopqrstuvwxyz 78\n"
          ]
        }
      ]
    },
    {
      "cell_type": "code",
      "metadata": {
        "id": "_lHNunn9CMOZ"
      },
      "source": [
        "images = []\n",
        "labels = []\n",
        "\n",
        "RECORDS_COUNT = 10000"
      ],
      "execution_count": 14,
      "outputs": []
    },
    {
      "cell_type": "code",
      "metadata": {
        "id": "NArwpI7pCOpr"
      },
      "source": [
        "train_images = []\n",
        "train_labels = []\n",
        "train_input_length = []\n",
        "train_label_length = []\n",
        "train_original_text = []\n",
        "\n",
        "valid_images = []\n",
        "valid_labels = []\n",
        "valid_input_length = []\n",
        "valid_label_length = []\n",
        "valid_original_text = []\n",
        "\n",
        "inputs_length = []\n",
        "labels_length = []"
      ],
      "execution_count": 15,
      "outputs": []
    },
    {
      "cell_type": "code",
      "metadata": {
        "id": "aXbMbbD5CREV"
      },
      "source": [
        "def process_image(img):\n",
        "    \"\"\"\n",
        "    Converts image to shape (32, 128, 1) & normalize\n",
        "    \"\"\"\n",
        "    w, h = img.shape\n",
        "\n",
        "#     _, img = cv2.threshold(img,\n",
        "#                            128,\n",
        "#                            255,\n",
        "#                            cv2.THRESH_BINARY | cv2.THRESH_OTSU)\n",
        "\n",
        "    # Aspect Ratio Calculation\n",
        "    new_w = 32\n",
        "    new_h = int(h * (new_w / w))\n",
        "    img = cv2.resize(img, (new_h, new_w))\n",
        "    w, h = img.shape\n",
        "\n",
        "    img = img.astype('float32')\n",
        "\n",
        "    # Converts each to (32, 128, 1)\n",
        "    if w < 32:\n",
        "        add_zeros = np.full((32-w, h), 255)\n",
        "        img = np.concatenate((img, add_zeros))\n",
        "        w, h = img.shape\n",
        "\n",
        "    if h < 128:\n",
        "        add_zeros = np.full((w, 128-h), 255)\n",
        "        img = np.concatenate((img, add_zeros), axis=1)\n",
        "        w, h = img.shape\n",
        "\n",
        "    if h > 128 or w > 32:\n",
        "        dim = (128,32)\n",
        "        img = cv2.resize(img, dim)\n",
        "\n",
        "    img = cv2.subtract(255, img)\n",
        "\n",
        "    img = np.expand_dims(img, axis=2)\n",
        "\n",
        "    # Normalize\n",
        "    img = img / 255\n",
        "\n",
        "    return img"
      ],
      "execution_count": 16,
      "outputs": []
    },
    {
      "cell_type": "code",
      "source": [
        "import tarfile\n",
        "import os\n",
        "\n",
        "# Define the path to your .tgz file\n",
        "file_path = \"./words.tgz\"\n",
        "\n",
        "# Define the directory where you want to extract the contents\n",
        "extract_dir = \"words\"\n",
        "\n",
        "# Create the extraction directory if it doesn't exist\n",
        "if not os.path.exists(extract_dir):\n",
        "    os.makedirs(extract_dir)\n",
        "\n",
        "# Open the .tgz file\n",
        "with tarfile.open(file_path, \"r:gz\") as tar:\n",
        "    # Extract all contents to the extraction directory\n",
        "    tar.extractall(path=extract_dir)\n",
        "\n",
        "print(\"Extraction complete.\")\n"
      ],
      "metadata": {
        "id": "B3j1Nu8lpMbm",
        "colab": {
          "base_uri": "https://localhost:8080/"
        },
        "outputId": "aa00c701-973e-41a0-8484-155ccf5418e3"
      },
      "execution_count": 17,
      "outputs": [
        {
          "output_type": "stream",
          "name": "stdout",
          "text": [
            "Extraction complete.\n"
          ]
        }
      ]
    },
    {
      "cell_type": "code",
      "metadata": {
        "id": "NO54Ki0ICa9K"
      },
      "source": [
        "for index, line in enumerate(lines):\n",
        "    splits = line.split(' ')\n",
        "    status = splits[1]\n",
        "\n",
        "    if status == 'ok':\n",
        "        word_id = splits[0]\n",
        "        word = \"\".join(splits[8:])\n",
        "\n",
        "        splits_id = word_id.split('-')\n",
        "        filepath = 'words/{}/{}-{}/{}.png'.format(splits_id[0],\n",
        "                                                  splits_id[0],\n",
        "                                                  splits_id[1],\n",
        "                                                  word_id)\n",
        "\n",
        "        # processing on image\n",
        "        img = cv2.imread(filepath, cv2.IMREAD_GRAYSCALE)\n",
        "        try:\n",
        "            img = process_image(img)\n",
        "        except:\n",
        "            continue\n",
        "\n",
        "        # processing on label\n",
        "        try:\n",
        "            label = encode_to_labels(word)\n",
        "        except:\n",
        "            continue\n",
        "\n",
        "        if index % 10 == 0:\n",
        "            valid_images.append(img)\n",
        "            valid_labels.append(label)\n",
        "            valid_input_length.append(31)\n",
        "            valid_label_length.append(len(word))\n",
        "            valid_original_text.append(word)\n",
        "        else:\n",
        "            train_images.append(img)\n",
        "            train_labels.append(label)\n",
        "            train_input_length.append(31)\n",
        "            train_label_length.append(len(word))\n",
        "            train_original_text.append(word)\n",
        "\n",
        "        if len(word) > max_label_len:\n",
        "            max_label_len = len(word)\n",
        "\n",
        "    if index >= RECORDS_COUNT:\n",
        "        break"
      ],
      "execution_count": 18,
      "outputs": []
    },
    {
      "cell_type": "code",
      "metadata": {
        "id": "CqJP3ZfnCbX5"
      },
      "source": [
        "train_padded_label = pad_sequences(train_labels,\n",
        "                             maxlen=max_label_len,\n",
        "                             padding='post',\n",
        "                             value=len(char_list))\n",
        "\n",
        "valid_padded_label = pad_sequences(valid_labels,\n",
        "                             maxlen=max_label_len,\n",
        "                             padding='post',\n",
        "                             value=len(char_list))"
      ],
      "execution_count": 19,
      "outputs": []
    },
    {
      "cell_type": "code",
      "metadata": {
        "id": "rPN6audwCnCO",
        "colab": {
          "base_uri": "https://localhost:8080/"
        },
        "outputId": "273beb69-917d-47e3-87fb-787f28588060"
      },
      "source": [
        "train_padded_label.shape, valid_padded_label.shape"
      ],
      "execution_count": 20,
      "outputs": [
        {
          "output_type": "execute_result",
          "data": {
            "text/plain": [
              "((7850, 16), (876, 16))"
            ]
          },
          "metadata": {},
          "execution_count": 20
        }
      ]
    },
    {
      "cell_type": "code",
      "metadata": {
        "id": "AsGyb8qGCoqb"
      },
      "source": [
        "\n",
        "train_images = np.asarray(train_images)\n",
        "train_input_length = np.asarray(train_input_length)\n",
        "train_label_length = np.asarray(train_label_length)\n",
        "\n",
        "valid_images = np.asarray(valid_images)\n",
        "valid_input_length = np.asarray(valid_input_length)\n",
        "valid_label_length = np.asarray(valid_label_length)"
      ],
      "execution_count": 21,
      "outputs": []
    },
    {
      "cell_type": "code",
      "metadata": {
        "id": "ynka_dx2D05g",
        "colab": {
          "base_uri": "https://localhost:8080/"
        },
        "outputId": "59b14dbf-b0e0-4b5a-973e-e65244115bd3"
      },
      "source": [
        "train_images.shape"
      ],
      "execution_count": 22,
      "outputs": [
        {
          "output_type": "execute_result",
          "data": {
            "text/plain": [
              "(7850, 32, 128, 1)"
            ]
          },
          "metadata": {},
          "execution_count": 22
        }
      ]
    },
    {
      "cell_type": "code",
      "metadata": {
        "id": "4MBub4wFD2qG"
      },
      "source": [
        "# input with shape of height=32 and width=128\n",
        "inputs = Input(shape=(32,128,1))\n",
        "\n",
        "# convolution layer with kernel size (3,3)\n",
        "conv_1 = Conv2D(64, (3,3), activation = 'relu', padding='same')(inputs)\n",
        "# poolig layer with kernel size (2,2)\n",
        "pool_1 = MaxPool2D(pool_size=(2, 2), strides=2)(conv_1)\n",
        "\n",
        "conv_2 = Conv2D(128, (3,3), activation = 'relu', padding='same')(pool_1)\n",
        "pool_2 = MaxPool2D(pool_size=(2, 2), strides=2)(conv_2)\n",
        "\n",
        "conv_3 = Conv2D(256, (3,3), activation = 'relu', padding='same')(pool_2)\n",
        "\n",
        "conv_4 = Conv2D(256, (3,3), activation = 'relu', padding='same')(conv_3)\n",
        "\n",
        "# poolig layer with kernel size (2,1)\n",
        "pool_4 = MaxPool2D(pool_size=(2, 1))(conv_4)\n",
        "\n",
        "conv_5 = Conv2D(512, (3,3), activation = 'relu', padding='same')(pool_4)\n",
        "\n",
        "# Batch normalization layer\n",
        "batch_norm_5 = BatchNormalization()(conv_5)\n",
        "\n",
        "conv_6 = Conv2D(512, (3,3), activation = 'relu', padding='same')(batch_norm_5)\n",
        "batch_norm_6 = BatchNormalization()(conv_6)\n",
        "pool_6 = MaxPool2D(pool_size=(2, 1))(batch_norm_6)\n",
        "\n",
        "conv_7 = Conv2D(512, (2,2), activation = 'relu')(pool_6)\n",
        "\n",
        "squeezed = Lambda(lambda x: K.squeeze(x, 1))(conv_7)\n",
        "\n",
        "# bidirectional LSTM layers with units=128\n",
        "blstm_1 = Bidirectional(LSTM(256, return_sequences=True, dropout = 0.2))(squeezed)\n",
        "blstm_2 = Bidirectional(LSTM(256, return_sequences=True, dropout = 0.2))(blstm_1)\n",
        "\n",
        "outputs = Dense(len(char_list)+1, activation = 'softmax')(blstm_2)\n",
        "\n",
        "# model to be used at test time\n",
        "act_model = Model(inputs, outputs)"
      ],
      "execution_count": 23,
      "outputs": []
    },
    {
      "cell_type": "code",
      "metadata": {
        "id": "8A9yM0CWD6bV",
        "colab": {
          "base_uri": "https://localhost:8080/"
        },
        "outputId": "233feace-528f-4597-997b-459e13e1886e"
      },
      "source": [
        "act_model.summary()"
      ],
      "execution_count": 24,
      "outputs": [
        {
          "output_type": "stream",
          "name": "stdout",
          "text": [
            "Model: \"model\"\n",
            "_________________________________________________________________\n",
            " Layer (type)                Output Shape              Param #   \n",
            "=================================================================\n",
            " input_1 (InputLayer)        [(None, 32, 128, 1)]      0         \n",
            "                                                                 \n",
            " conv2d (Conv2D)             (None, 32, 128, 64)       640       \n",
            "                                                                 \n",
            " max_pooling2d (MaxPooling2  (None, 16, 64, 64)        0         \n",
            " D)                                                              \n",
            "                                                                 \n",
            " conv2d_1 (Conv2D)           (None, 16, 64, 128)       73856     \n",
            "                                                                 \n",
            " max_pooling2d_1 (MaxPoolin  (None, 8, 32, 128)        0         \n",
            " g2D)                                                            \n",
            "                                                                 \n",
            " conv2d_2 (Conv2D)           (None, 8, 32, 256)        295168    \n",
            "                                                                 \n",
            " conv2d_3 (Conv2D)           (None, 8, 32, 256)        590080    \n",
            "                                                                 \n",
            " max_pooling2d_2 (MaxPoolin  (None, 4, 32, 256)        0         \n",
            " g2D)                                                            \n",
            "                                                                 \n",
            " conv2d_4 (Conv2D)           (None, 4, 32, 512)        1180160   \n",
            "                                                                 \n",
            " batch_normalization (Batch  (None, 4, 32, 512)        2048      \n",
            " Normalization)                                                  \n",
            "                                                                 \n",
            " conv2d_5 (Conv2D)           (None, 4, 32, 512)        2359808   \n",
            "                                                                 \n",
            " batch_normalization_1 (Bat  (None, 4, 32, 512)        2048      \n",
            " chNormalization)                                                \n",
            "                                                                 \n",
            " max_pooling2d_3 (MaxPoolin  (None, 2, 32, 512)        0         \n",
            " g2D)                                                            \n",
            "                                                                 \n",
            " conv2d_6 (Conv2D)           (None, 1, 31, 512)        1049088   \n",
            "                                                                 \n",
            " lambda (Lambda)             (None, 31, 512)           0         \n",
            "                                                                 \n",
            " bidirectional (Bidirection  (None, 31, 512)           1574912   \n",
            " al)                                                             \n",
            "                                                                 \n",
            " bidirectional_1 (Bidirecti  (None, 31, 512)           1574912   \n",
            " onal)                                                           \n",
            "                                                                 \n",
            " dense (Dense)               (None, 31, 79)            40527     \n",
            "                                                                 \n",
            "=================================================================\n",
            "Total params: 8743247 (33.35 MB)\n",
            "Trainable params: 8741199 (33.35 MB)\n",
            "Non-trainable params: 2048 (8.00 KB)\n",
            "_________________________________________________________________\n"
          ]
        }
      ]
    },
    {
      "cell_type": "code",
      "metadata": {
        "id": "CZHX-VWmD9KF"
      },
      "source": [
        "the_labels = Input(name='the_labels', shape=[max_label_len], dtype='float32')\n",
        "input_length = Input(name='input_length', shape=[1], dtype='int64')\n",
        "label_length = Input(name='label_length', shape=[1], dtype='int64')\n",
        "\n",
        "def ctc_lambda_func(args):\n",
        "    y_pred, labels, input_length, label_length = args\n",
        "\n",
        "    return K.ctc_batch_cost(labels, y_pred, input_length, label_length)\n",
        "\n",
        "loss_out = Lambda(ctc_lambda_func, output_shape=(1,), name='ctc')([outputs, the_labels, input_length, label_length])\n",
        "\n",
        "#model to be used at training time\n",
        "model = Model(inputs=[inputs, the_labels, input_length, label_length], outputs=loss_out)"
      ],
      "execution_count": 25,
      "outputs": []
    },
    {
      "cell_type": "code",
      "metadata": {
        "id": "C73Y-AkoEABZ"
      },
      "source": [
        "batch_size = 8\n",
        "epochs = 30\n",
        "e = str(epochs)\n",
        "optimizer_name = 'sgd'"
      ],
      "execution_count": 26,
      "outputs": []
    },
    {
      "cell_type": "code",
      "metadata": {
        "id": "JUkCfE95ECM3"
      },
      "source": [
        "model.compile(loss={'ctc': lambda y_true, y_pred: y_pred}, optimizer = optimizer_name, metrics=['accuracy'])\n",
        "\n",
        "filepath=\"./HTR_Using_CRNN/Model/{}o-{}r-{}e-{}t-{}v.hdf5\".format(optimizer_name,\n",
        "                                          str(RECORDS_COUNT),\n",
        "                                          str(epochs),\n",
        "                                          str(train_images.shape[0]),\n",
        "                                          str(valid_images.shape[0]))\n",
        "\n",
        "checkpoint = ModelCheckpoint(filepath=filepath, monitor='val_loss', verbose=1, save_best_only=True, mode='auto')\n",
        "callbacks_list = [checkpoint]"
      ],
      "execution_count": 27,
      "outputs": []
    },
    {
      "cell_type": "code",
      "metadata": {
        "id": "Xvt3MZ9EEEhR",
        "colab": {
          "base_uri": "https://localhost:8080/"
        },
        "outputId": "e7c8532d-4b31-465f-e828-e2c3574f3588"
      },
      "source": [
        "history = model.fit(x=[train_images, train_padded_label, train_input_length, train_label_length],\n",
        "                    y=np.zeros(len(train_images)),\n",
        "                    batch_size=batch_size,\n",
        "                    epochs=epochs,\n",
        "                    validation_data=([valid_images, valid_padded_label, valid_input_length, valid_label_length], [np.zeros(len(valid_images))]),\n",
        "                    verbose=2,\n",
        "                    callbacks=callbacks_list)"
      ],
      "execution_count": 28,
      "outputs": [
        {
          "output_type": "stream",
          "name": "stdout",
          "text": [
            "Epoch 1/30\n",
            "\n",
            "Epoch 1: val_loss improved from inf to 14.64880, saving model to ./HTR_Using_CRNN/Model/sgdo-10000r-30e-7850t-876v.hdf5\n",
            "982/982 - 43s - loss: 15.4757 - accuracy: 0.0000e+00 - val_loss: 14.6488 - val_accuracy: 0.0000e+00 - 43s/epoch - 44ms/step\n",
            "Epoch 2/30\n"
          ]
        },
        {
          "output_type": "stream",
          "name": "stderr",
          "text": [
            "/usr/local/lib/python3.10/dist-packages/keras/src/engine/training.py:3103: UserWarning: You are saving your model as an HDF5 file via `model.save()`. This file format is considered legacy. We recommend using instead the native Keras format, e.g. `model.save('my_model.keras')`.\n",
            "  saving_api.save_model(\n"
          ]
        },
        {
          "output_type": "stream",
          "name": "stdout",
          "text": [
            "\n",
            "Epoch 2: val_loss improved from 14.64880 to 14.35183, saving model to ./HTR_Using_CRNN/Model/sgdo-10000r-30e-7850t-876v.hdf5\n",
            "982/982 - 25s - loss: 12.8727 - accuracy: 0.0172 - val_loss: 14.3518 - val_accuracy: 0.0080 - 25s/epoch - 26ms/step\n",
            "Epoch 3/30\n",
            "\n",
            "Epoch 3: val_loss improved from 14.35183 to 11.32054, saving model to ./HTR_Using_CRNN/Model/sgdo-10000r-30e-7850t-876v.hdf5\n",
            "982/982 - 28s - loss: 11.1525 - accuracy: 0.0590 - val_loss: 11.3205 - val_accuracy: 0.0651 - 28s/epoch - 28ms/step\n",
            "Epoch 4/30\n",
            "\n",
            "Epoch 4: val_loss did not improve from 11.32054\n",
            "982/982 - 26s - loss: 9.3984 - accuracy: 0.0973 - val_loss: 12.1488 - val_accuracy: 0.0662 - 26s/epoch - 27ms/step\n",
            "Epoch 5/30\n",
            "\n",
            "Epoch 5: val_loss improved from 11.32054 to 8.30294, saving model to ./HTR_Using_CRNN/Model/sgdo-10000r-30e-7850t-876v.hdf5\n",
            "982/982 - 25s - loss: 7.5967 - accuracy: 0.1425 - val_loss: 8.3029 - val_accuracy: 0.1290 - 25s/epoch - 26ms/step\n",
            "Epoch 6/30\n",
            "\n",
            "Epoch 6: val_loss did not improve from 8.30294\n",
            "982/982 - 25s - loss: 5.8141 - accuracy: 0.1899 - val_loss: 8.5110 - val_accuracy: 0.1301 - 25s/epoch - 25ms/step\n",
            "Epoch 7/30\n",
            "\n",
            "Epoch 7: val_loss improved from 8.30294 to 5.62897, saving model to ./HTR_Using_CRNN/Model/sgdo-10000r-30e-7850t-876v.hdf5\n",
            "982/982 - 25s - loss: 4.5819 - accuracy: 0.2485 - val_loss: 5.6290 - val_accuracy: 0.2477 - 25s/epoch - 26ms/step\n",
            "Epoch 8/30\n",
            "\n",
            "Epoch 8: val_loss did not improve from 5.62897\n",
            "982/982 - 25s - loss: 3.6709 - accuracy: 0.3027 - val_loss: 10.1300 - val_accuracy: 0.1210 - 25s/epoch - 25ms/step\n",
            "Epoch 9/30\n",
            "\n",
            "Epoch 9: val_loss improved from 5.62897 to 3.59697, saving model to ./HTR_Using_CRNN/Model/sgdo-10000r-30e-7850t-876v.hdf5\n",
            "982/982 - 25s - loss: 2.9881 - accuracy: 0.3498 - val_loss: 3.5970 - val_accuracy: 0.3584 - 25s/epoch - 25ms/step\n",
            "Epoch 10/30\n",
            "\n",
            "Epoch 10: val_loss did not improve from 3.59697\n",
            "982/982 - 25s - loss: 2.3891 - accuracy: 0.4087 - val_loss: 3.8226 - val_accuracy: 0.3676 - 25s/epoch - 25ms/step\n",
            "Epoch 11/30\n",
            "\n",
            "Epoch 11: val_loss did not improve from 3.59697\n",
            "982/982 - 25s - loss: 1.8726 - accuracy: 0.4694 - val_loss: 4.0907 - val_accuracy: 0.3584 - 25s/epoch - 25ms/step\n",
            "Epoch 12/30\n",
            "\n",
            "Epoch 12: val_loss improved from 3.59697 to 3.54788, saving model to ./HTR_Using_CRNN/Model/sgdo-10000r-30e-7850t-876v.hdf5\n",
            "982/982 - 25s - loss: 1.5320 - accuracy: 0.5162 - val_loss: 3.5479 - val_accuracy: 0.4281 - 25s/epoch - 25ms/step\n",
            "Epoch 13/30\n",
            "\n",
            "Epoch 13: val_loss did not improve from 3.54788\n",
            "982/982 - 25s - loss: 1.1721 - accuracy: 0.5882 - val_loss: 3.7275 - val_accuracy: 0.4612 - 25s/epoch - 25ms/step\n",
            "Epoch 14/30\n",
            "\n",
            "Epoch 14: val_loss improved from 3.54788 to 3.47837, saving model to ./HTR_Using_CRNN/Model/sgdo-10000r-30e-7850t-876v.hdf5\n",
            "982/982 - 25s - loss: 0.8994 - accuracy: 0.6522 - val_loss: 3.4784 - val_accuracy: 0.4726 - 25s/epoch - 26ms/step\n",
            "Epoch 15/30\n",
            "\n",
            "Epoch 15: val_loss did not improve from 3.47837\n",
            "982/982 - 25s - loss: 0.6901 - accuracy: 0.7061 - val_loss: 7.0372 - val_accuracy: 0.3139 - 25s/epoch - 26ms/step\n",
            "Epoch 16/30\n",
            "\n",
            "Epoch 16: val_loss did not improve from 3.47837\n",
            "982/982 - 25s - loss: 0.5498 - accuracy: 0.7507 - val_loss: 3.9573 - val_accuracy: 0.4669 - 25s/epoch - 26ms/step\n",
            "Epoch 17/30\n",
            "\n",
            "Epoch 17: val_loss did not improve from 3.47837\n",
            "982/982 - 25s - loss: 0.4062 - accuracy: 0.8094 - val_loss: 4.1355 - val_accuracy: 0.4840 - 25s/epoch - 25ms/step\n",
            "Epoch 18/30\n",
            "\n",
            "Epoch 18: val_loss did not improve from 3.47837\n",
            "982/982 - 27s - loss: 0.3110 - accuracy: 0.8530 - val_loss: 3.5809 - val_accuracy: 0.5342 - 27s/epoch - 28ms/step\n",
            "Epoch 19/30\n",
            "\n",
            "Epoch 19: val_loss improved from 3.47837 to 3.47419, saving model to ./HTR_Using_CRNN/Model/sgdo-10000r-30e-7850t-876v.hdf5\n",
            "982/982 - 27s - loss: 0.2191 - accuracy: 0.9018 - val_loss: 3.4742 - val_accuracy: 0.5514 - 27s/epoch - 28ms/step\n",
            "Epoch 20/30\n",
            "\n",
            "Epoch 20: val_loss did not improve from 3.47419\n",
            "982/982 - 25s - loss: 0.1632 - accuracy: 0.9282 - val_loss: 3.6017 - val_accuracy: 0.5514 - 25s/epoch - 25ms/step\n",
            "Epoch 21/30\n",
            "\n",
            "Epoch 21: val_loss improved from 3.47419 to 3.45786, saving model to ./HTR_Using_CRNN/Model/sgdo-10000r-30e-7850t-876v.hdf5\n",
            "982/982 - 25s - loss: 0.1266 - accuracy: 0.9471 - val_loss: 3.4579 - val_accuracy: 0.5651 - 25s/epoch - 25ms/step\n",
            "Epoch 22/30\n",
            "\n",
            "Epoch 22: val_loss did not improve from 3.45786\n",
            "982/982 - 26s - loss: 0.0990 - accuracy: 0.9600 - val_loss: 3.4964 - val_accuracy: 0.5685 - 26s/epoch - 26ms/step\n",
            "Epoch 23/30\n",
            "\n",
            "Epoch 23: val_loss did not improve from 3.45786\n",
            "982/982 - 25s - loss: 0.0684 - accuracy: 0.9795 - val_loss: 3.5521 - val_accuracy: 0.5742 - 25s/epoch - 25ms/step\n",
            "Epoch 24/30\n",
            "\n",
            "Epoch 24: val_loss did not improve from 3.45786\n",
            "982/982 - 25s - loss: 0.0514 - accuracy: 0.9845 - val_loss: 3.5488 - val_accuracy: 0.5845 - 25s/epoch - 25ms/step\n",
            "Epoch 25/30\n",
            "\n",
            "Epoch 25: val_loss did not improve from 3.45786\n",
            "982/982 - 25s - loss: 0.0405 - accuracy: 0.9910 - val_loss: 3.5923 - val_accuracy: 0.5890 - 25s/epoch - 25ms/step\n",
            "Epoch 26/30\n",
            "\n",
            "Epoch 26: val_loss did not improve from 3.45786\n",
            "982/982 - 25s - loss: 0.0343 - accuracy: 0.9922 - val_loss: 3.5692 - val_accuracy: 0.5788 - 25s/epoch - 25ms/step\n",
            "Epoch 27/30\n",
            "\n",
            "Epoch 27: val_loss did not improve from 3.45786\n",
            "982/982 - 26s - loss: 0.0271 - accuracy: 0.9949 - val_loss: 3.6970 - val_accuracy: 0.5833 - 26s/epoch - 27ms/step\n",
            "Epoch 28/30\n",
            "\n",
            "Epoch 28: val_loss did not improve from 3.45786\n",
            "982/982 - 25s - loss: 0.0248 - accuracy: 0.9953 - val_loss: 3.6641 - val_accuracy: 0.5879 - 25s/epoch - 25ms/step\n",
            "Epoch 29/30\n",
            "\n",
            "Epoch 29: val_loss did not improve from 3.45786\n",
            "982/982 - 25s - loss: 0.0231 - accuracy: 0.9968 - val_loss: 3.6873 - val_accuracy: 0.5925 - 25s/epoch - 26ms/step\n",
            "Epoch 30/30\n",
            "\n",
            "Epoch 30: val_loss did not improve from 3.45786\n",
            "982/982 - 25s - loss: 0.0260 - accuracy: 0.9953 - val_loss: 3.7472 - val_accuracy: 0.5822 - 25s/epoch - 26ms/step\n"
          ]
        }
      ]
    },
    {
      "cell_type": "code",
      "metadata": {
        "id": "6gdaO64jEG1P",
        "colab": {
          "base_uri": "https://localhost:8080/"
        },
        "outputId": "2702d483-49f7-47e6-a807-7e535a262043"
      },
      "source": [
        "!pip install python-levenshtein"
      ],
      "execution_count": 29,
      "outputs": [
        {
          "output_type": "stream",
          "name": "stdout",
          "text": [
            "Collecting python-levenshtein\n",
            "  Downloading python_Levenshtein-0.25.1-py3-none-any.whl (9.4 kB)\n",
            "Collecting Levenshtein==0.25.1 (from python-levenshtein)\n",
            "  Downloading Levenshtein-0.25.1-cp310-cp310-manylinux_2_17_x86_64.manylinux2014_x86_64.whl (177 kB)\n",
            "\u001b[2K     \u001b[90m━━━━━━━━━━━━━━━━━━━━━━━━━━━━━━━━━━━━━━━━\u001b[0m \u001b[32m177.4/177.4 kB\u001b[0m \u001b[31m6.1 MB/s\u001b[0m eta \u001b[36m0:00:00\u001b[0m\n",
            "\u001b[?25hCollecting rapidfuzz<4.0.0,>=3.8.0 (from Levenshtein==0.25.1->python-levenshtein)\n",
            "  Downloading rapidfuzz-3.8.1-cp310-cp310-manylinux_2_17_x86_64.manylinux2014_x86_64.whl (3.4 MB)\n",
            "\u001b[2K     \u001b[90m━━━━━━━━━━━━━━━━━━━━━━━━━━━━━━━━━━━━━━━━\u001b[0m \u001b[32m3.4/3.4 MB\u001b[0m \u001b[31m81.7 MB/s\u001b[0m eta \u001b[36m0:00:00\u001b[0m\n",
            "\u001b[?25hInstalling collected packages: rapidfuzz, Levenshtein, python-levenshtein\n",
            "Successfully installed Levenshtein-0.25.1 python-levenshtein-0.25.1 rapidfuzz-3.8.1\n"
          ]
        }
      ]
    },
    {
      "cell_type": "code",
      "source": [
        "# load the saved best model weights\n",
        "act_model.load_weights(filepath)\n",
        "\n",
        "# predict outputs on validation images\n",
        "prediction = act_model.predict(valid_images)"
      ],
      "metadata": {
        "colab": {
          "base_uri": "https://localhost:8080/"
        },
        "id": "a3Mny3etZgvp",
        "outputId": "705cb69b-8b3c-43c3-f45f-f09cbcddb3fe"
      },
      "execution_count": 30,
      "outputs": [
        {
          "output_type": "stream",
          "name": "stdout",
          "text": [
            "28/28 [==============================] - 4s 40ms/step\n"
          ]
        }
      ]
    },
    {
      "cell_type": "code",
      "source": [
        "import numpy as np\n",
        "import seaborn as sns\n",
        "import matplotlib.pyplot as plt\n",
        "from sklearn.metrics import confusion_matrix\n",
        "\n",
        "# Select the first 100 samples from the validation set\n",
        "limited_valid_images = valid_images[:50]\n",
        "limited_valid_labels = valid_labels[:50]\n",
        "\n",
        "# Predict outputs on limited validation images\n",
        "predictions = act_model.predict(limited_valid_images)\n",
        "\n",
        "# Use CTC decoder\n",
        "decoded = K.ctc_decode(predictions,\n",
        "                       input_length=np.ones(predictions.shape[0]) * predictions.shape[1],\n",
        "                       greedy=True)[0][0]\n",
        "decoded_labels = [''.join([char_list[int(p)] for p in x if p != -1]) for x in decoded]\n",
        "\n",
        "# Convert original labels to strings\n",
        "true_labels = [''.join([char_list[int(p)] for p in label if p != -1]) for label in limited_valid_labels]\n",
        "\n",
        "# Construct confusion matrix\n",
        "conf_matrix = confusion_matrix(true_labels, decoded_labels)\n",
        "\n",
        "# Visualize confusion matrix\n",
        "plt.figure(figsize=(15, 12))\n",
        "sns.heatmap(conf_matrix, annot=True, fmt='d', cmap='Blues', xticklabels=decoded_labels, yticklabels=true_labels)\n",
        "plt.xlabel('Predicted Label')\n",
        "plt.ylabel('True Label')\n",
        "plt.title('Confusion Matrix')\n",
        "plt.show()\n"
      ],
      "metadata": {
        "id": "dxCm9JjQZiOX"
      },
      "execution_count": null,
      "outputs": []
    },
    {
      "cell_type": "code",
      "metadata": {
        "id": "BqZPmZrgEgV-",
        "colab": {
          "base_uri": "https://localhost:8080/"
        },
        "outputId": "50bea0dc-f32d-4b54-897a-3376ed3aedf7"
      },
      "source": [
        "# load the saved best model weights\n",
        "act_model.load_weights(filepath)\n",
        "\n",
        "# predict outputs on validation images\n",
        "prediction = act_model.predict(valid_images)\n",
        "\n",
        "# use CTC decoder\n",
        "decoded = K.ctc_decode(prediction,\n",
        "                       input_length=np.ones(prediction.shape[0]) * prediction.shape[1],\n",
        "                       greedy=True)[0][0]\n",
        "out = K.get_value(decoded)\n",
        "\n",
        "import Levenshtein as lv\n",
        "\n",
        "total_jaro = 0\n",
        "total_rati = 0\n",
        "# see the results\n",
        "for i, x in enumerate(out):\n",
        "    letters=''\n",
        "    for p in x:\n",
        "        if int(p) != -1:\n",
        "            letters+=char_list[int(p)]\n",
        "    total_jaro+=lv.jaro(letters, valid_original_text[i])\n",
        "    total_rati+=lv.ratio(letters, valid_original_text[i])\n",
        "\n",
        "print('jaro :', total_jaro/len(out))\n",
        "print('ratio:', total_rati/len(out))"
      ],
      "execution_count": 35,
      "outputs": [
        {
          "output_type": "stream",
          "name": "stdout",
          "text": [
            "28/28 [==============================] - 0s 16ms/step\n",
            "jaro : 0.9201326694192005\n",
            "ratio: 0.8905403483815185\n"
          ]
        }
      ]
    },
    {
      "cell_type": "markdown",
      "metadata": {
        "id": "GGsA9TxrK6eY"
      },
      "source": [
        "**Prediction.**"
      ]
    },
    {
      "cell_type": "code",
      "metadata": {
        "id": "MXzTQlMeEjwB"
      },
      "source": [
        "# predict outputs on validation images\n",
        "prediction =act_model.predict(train_images[542:645])\n",
        "\n",
        "# use CTC decoder\n",
        "decoded = K.ctc_decode(prediction,\n",
        "                       input_length=np.ones(prediction.shape[0]) * prediction.shape[1],\n",
        "                       greedy=True)[0][0]\n",
        "\n",
        "out = K.get_value(decoded)\n",
        "\n",
        "# see the results\n",
        "for i, x in enumerate(out):\n",
        "    print(\"original_text =  \", train_original_text[542+i])\n",
        "    print(\"predicted text = \", end = '')\n",
        "    for p in x:\n",
        "        if int(p) != -1:\n",
        "            print(char_list[int(p)], end = '')\n",
        "    plt.imshow(train_images[542+i].reshape(32,128), cmap=plt.cm.gray)\n",
        "    plt.show()\n",
        "    print('\\n')"
      ],
      "execution_count": null,
      "outputs": []
    },
    {
      "cell_type": "code",
      "metadata": {
        "id": "WEP62WO-EkAv"
      },
      "source": [
        "def plotgraph(epochs, acc, val_acc):\n",
        "    # Plot training & validation accuracy values\n",
        "    plt.plot(epochs, acc, 'b')\n",
        "    plt.plot(epochs, val_acc, 'r')\n",
        "    plt.title('Model accuracy')\n",
        "    plt.ylabel('Accuracy')\n",
        "    plt.xlabel('Epoch')\n",
        "    plt.legend(['Train', 'Val'], loc='upper left')\n",
        "    plt.show()"
      ],
      "execution_count": 37,
      "outputs": []
    },
    {
      "cell_type": "code",
      "metadata": {
        "id": "i-tXSzdGEkHS"
      },
      "source": [
        "\n",
        "acc = history.history['accuracy']\n",
        "val_acc = history.history['val_accuracy']\n",
        "loss = history.history['loss']\n",
        "val_loss = history.history['val_loss']\n",
        "epochs = range(1,len(loss)+1)"
      ],
      "execution_count": 38,
      "outputs": []
    },
    {
      "cell_type": "code",
      "metadata": {
        "id": "YW5JZQL3EkFr",
        "colab": {
          "base_uri": "https://localhost:8080/",
          "height": 472
        },
        "outputId": "79620086-0768-4613-9ec2-bd61e152bb3e"
      },
      "source": [
        "plotgraph(epochs, loss, val_loss)"
      ],
      "execution_count": 39,
      "outputs": [
        {
          "output_type": "display_data",
          "data": {
            "text/plain": [
              "<Figure size 640x480 with 1 Axes>"
            ],
            "image/png": "[encoded data removed]"
          },
          "metadata": {}
        }
      ]
    },
    {
      "cell_type": "code",
      "metadata": {
        "id": "OEIyoHAoEj-G",
        "colab": {
          "base_uri": "https://localhost:8080/",
          "height": 472
        },
        "outputId": "bc5e35df-fe17-42c1-a56a-00f710beda10"
      },
      "source": [
        "plotgraph(epochs, acc, val_acc)"
      ],
      "execution_count": 40,
      "outputs": [
        {
          "output_type": "display_data",
          "data": {
            "text/plain": [
              "<Figure size 640x480 with 1 Axes>"
            ],
            "image/png": "[encoded data removed]"
          },
          "metadata": {}
        }
      ]
    },
    {
      "cell_type": "code",
      "metadata": {
        "id": "csKlQLTyEj7v"
      },
      "source": [
        "minimum_val_loss = np.min(history.history['val_loss'])\n",
        "best_model_index = np.where(history.history['val_loss'] == minimum_val_loss)[0][0]\n",
        "\n",
        "best_loss = str(history.history['loss'][best_model_index])\n",
        "best_acc = str(history.history['accuracy'][best_model_index])\n",
        "best_val_loss = str(history.history['val_loss'][best_model_index])\n",
        "best_val_acc = str(history.history['val_accuracy'][best_model_index])"
      ],
      "execution_count": 41,
      "outputs": []
    },
    {
      "cell_type": "code",
      "metadata": {
        "id": "cIhp0yo3Ej5W"
      },
      "source": [
        "with open('./history.txt', 'a') as f:\n",
        "    new_data = '{},{},{},{},{},{},{},{},{},{}\\n'.format(filepath,\n",
        "                                                      optimizer_name,\n",
        "                                                      str(RECORDS_COUNT),\n",
        "                                                      e,\n",
        "                                                      str(train_images.shape[0]),\n",
        "                                                      str(valid_images.shape[0]),\n",
        "                                                      best_loss,\n",
        "                                                      best_acc,\n",
        "                                                      best_val_loss,\n",
        "                                                      best_val_acc)\n",
        "    f.write(new_data)"
      ],
      "execution_count": 42,
      "outputs": []
    },
    {
      "cell_type": "code",
      "metadata": {
        "id": "oGeIJ6juEj3H",
        "colab": {
          "base_uri": "https://localhost:8080/"
        },
        "outputId": "674ab70f-f430-468d-9547-832921b8fa1b"
      },
      "source": [
        "model.save('./HTR_Using_CRNN/Model/Text_recognizer_Using_CRNN.h5')"
      ],
      "execution_count": 43,
      "outputs": [
        {
          "output_type": "stream",
          "name": "stderr",
          "text": [
            "/usr/local/lib/python3.10/dist-packages/keras/src/engine/training.py:3103: UserWarning: You are saving your model as an HDF5 file via `model.save()`. This file format is considered legacy. We recommend using instead the native Keras format, e.g. `model.save('my_model.keras')`.\n",
            "  saving_api.save_model(\n"
          ]
        }
      ]
    },
    {
      "cell_type": "code",
      "metadata": {
        "id": "tZsqOyMKh5wv"
      },
      "source": [
        "act_model.save('./HTR_Using_CRNN/Model/Text_recognizer_Using_CRNN_act.h5')"
      ],
      "execution_count": 44,
      "outputs": []
    },
    {
      "cell_type": "code",
      "metadata": {
        "id": "lF8q1N1a2L01"
      },
      "source": [
        "!pip install python-levenshtein"
      ],
      "execution_count": null,
      "outputs": []
    },
    {
      "cell_type": "code",
      "source": [],
      "metadata": {
        "id": "9UAOgBH8mKMx"
      },
      "execution_count": null,
      "outputs": []
    },
    {
      "cell_type": "code",
      "source": [
        "import numpy as np\n",
        "import random\n",
        "from typing import Union\n",
        "import os\n",
        "import time\n",
        "import string\n",
        "import cv2\n",
        "import difflib\n",
        "from keras.models import load_model\n",
        "import Levenshtein as lv\n",
        "import keras.backend as K"
      ],
      "metadata": {
        "id": "xIJmhxtp2fIw"
      },
      "execution_count": null,
      "outputs": []
    },
    {
      "cell_type": "code",
      "source": [
        "def process_image(img):\n",
        "    \"\"\"\n",
        "    Converts image to shape (32, 128, 1) & normalize\n",
        "    \"\"\"\n",
        "    w, h = img.shape\n",
        "\n",
        "    # Aspect Ratio Calculation\n",
        "    new_w = 32\n",
        "    new_h = int(h * (new_w / w))\n",
        "    img = cv2.resize(img, (new_h, new_w))\n",
        "    w, h = img.shape\n",
        "\n",
        "    img = img.astype('float32')\n",
        "\n",
        "    # Converts each to (32, 128, 1)\n",
        "    if w < 32:\n",
        "        add_zeros = np.full((32-w, h), 255)\n",
        "        img = np.concatenate((img, add_zeros))\n",
        "        w, h = img.shape\n",
        "\n",
        "    if h < 128:\n",
        "        add_zeros = np.full((w, 128-h), 255)\n",
        "        img = np.concatenate((img, add_zeros), axis=1)\n",
        "        w, h = img.shape\n",
        "\n",
        "    if h > 128 or w > 32:\n",
        "        dim = (128,32)\n",
        "        img = cv2.resize(img, dim)\n",
        "\n",
        "    img = cv2.subtract(255, img)\n",
        "\n",
        "    img = np.expand_dims(img, axis=-1)  # Ensure the channel dimension is added\n",
        "\n",
        "    # Normalize\n",
        "    img = img / 255\n",
        "\n",
        "    # Add batch dimension\n",
        "    img = np.expand_dims(img, axis=0)\n",
        "\n",
        "    return img\n"
      ],
      "metadata": {
        "id": "3MtkF_IfYio7"
      },
      "execution_count": null,
      "outputs": []
    },
    {
      "cell_type": "code",
      "metadata": {
        "id": "1ZshXgqE3Mi1"
      },
      "source": [
        "max_label_len = 0\n",
        "\n",
        "char_list = \"!\\\"#&'()*+,-./0123456789:;?ABCDEFGHIJKLMNOPQRSTUVWXYZabcdefghijklmnopqrstuvwxyz\"\n",
        "\n",
        "# string.ascii_letters + string.digits (Chars & Digits)\n",
        "# or\n",
        "# \"!\\\"#&'()*+,-./0123456789:;?ABCDEFGHIJKLMNOPQRSTUVWXYZabcdefghijklmnopqrstuvwxyz\"\n",
        "\n",
        "print(char_list, len(char_list))\n",
        "\n",
        "def encode_to_labels(txt):\n",
        "    # encoding each output word into digits\n",
        "    dig_lst = []\n",
        "    for index, chara in enumerate(txt):\n",
        "        dig_lst.append(char_list.index(chara))\n",
        "\n",
        "    return dig_lst"
      ],
      "execution_count": null,
      "outputs": []
    },
    {
      "cell_type": "code",
      "source": [
        "import difflib\n",
        "\n",
        "def find_closest_medicine(user_input):\n",
        "    closest_match = None\n",
        "    highest_ratio = 0\n",
        "    medicine_list = None\n",
        "\n",
        "    with open(\"medicine_names.txt\", \"r\") as file:\n",
        "        medicine_list = file.read().splitlines()\n",
        "\n",
        "    for medicine in medicine_list:\n",
        "        similarity_ratio = difflib.SequenceMatcher(None, user_input.lower(), medicine.lower()).ratio()\n",
        "        if similarity_ratio > highest_ratio:\n",
        "            highest_ratio = similarity_ratio\n",
        "            closest_match = medicine\n",
        "\n",
        "    return closest_match, highest_ratio"
      ],
      "metadata": {
        "id": "liErm60lpmKU"
      },
      "execution_count": null,
      "outputs": []
    },
    {
      "cell_type": "code",
      "source": [
        "from keras.models import load_model\n",
        "import cv2\n",
        "import numpy as np\n",
        "import Levenshtein as lv\n",
        "import keras.backend as K\n",
        "#from google.colab import files\n",
        "\n",
        "# Load the saved model\n",
        "model = load_model('./Text_recognizer_Using_CRNN_act.h5')\n",
        "\n",
        "def predict_text(image_path, model):\n",
        "    # Preprocess the input image\n",
        "    image = cv2.imread(image_path, cv2.IMREAD_GRAYSCALE)\n",
        "    img = process_image(image)\n",
        "    # Perform prediction\n",
        "    prediction = model.predict(img)\n",
        "    # Perform CTC decoding to get the predicted text\n",
        "    decoded = K.ctc_decode(prediction,\n",
        "                           input_length=np.ones(prediction.shape[0]) * prediction.shape[1],\n",
        "                           greedy=True)[0][0]\n",
        "    out = K.get_value(decoded)\n",
        "    predicted_text = ''\n",
        "    for i, x in enumerate(out):\n",
        "        for p in x:\n",
        "            if int(p) != -1:\n",
        "                predicted_text += char_list[int(p)]\n",
        "    return predicted_text\n",
        "\n",
        "# Example usage\n",
        "\n",
        "#uploaded = files.upload()\n",
        "#image_path = list(uploaded.keys())[0]\n",
        "\n",
        "# predicted_text = predict_text(image_path, model)\n",
        "\n",
        "# image = cv2.imread(image_path, cv2.IMREAD_GRAYSCALE)\n",
        "# img = process_image(image)\n",
        "# plt.imshow(img.reshape(32,128), cmap=plt.cm.gray)\n",
        "# plt.show()\n",
        "# print(\"Predicted Text:\", predicted_text)\n",
        "\n",
        "# closest_med, probability = find_closest_medicine(predicted_text)\n",
        "# print(f\"match: {closest_med} (Probability: {probability:.2f})\")\n"
      ],
      "metadata": {
        "id": "2iZbYwvZVYqY"
      },
      "execution_count": null,
      "outputs": []
    },
    {
      "cell_type": "code",
      "source": [
        "import difflib\n",
        "\n",
        "def find_closest_medicine(user_input, medicine_list):\n",
        "    closest_match = None\n",
        "    highest_ratio = 0\n",
        "\n",
        "    for medicine in medicine_list:\n",
        "        similarity_ratio = difflib.SequenceMatcher(None, user_input.lower(), medicine.lower()).ratio()\n",
        "        if similarity_ratio > highest_ratio:\n",
        "            highest_ratio = similarity_ratio\n",
        "            closest_match = medicine\n",
        "\n",
        "    return closest_match, highest_ratio\n",
        "\n",
        "# Example usage\n",
        "if __name__ == \"__main__\":\n",
        "    with open(\"medicine_names.txt\", \"r\") as file:\n",
        "        medicine_names = file.read().splitlines()\n",
        "\n",
        "    user_input = input(\"Enter a medicine name: \")\n",
        "    closest_med, probability = find_closest_medicine(user_input, medicine_names)\n",
        "\n",
        "    print(f\"Closest match: {closest_med} (Probability: {probability:.2f})\")\n"
      ],
      "metadata": {
        "id": "-6bV6LO6pSIE"
      },
      "execution_count": null,
      "outputs": []
    }
  ]
}